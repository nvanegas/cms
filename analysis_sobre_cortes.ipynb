{
 "cells": [
  {
   "cell_type": "markdown",
   "metadata": {},
   "source": [
    "# Análisis de datos utilizando PyRoot\n"
   ]
  },
  {
   "cell_type": "markdown",
   "metadata": {},
   "source": [
    "###Cargo los paquetes nesesarias"
   ]
  },
  {
   "cell_type": "code",
   "execution_count": 1,
   "metadata": {
    "collapsed": true
   },
   "outputs": [],
   "source": [
    "#from IPython.core.interactiveshell import InteractiveShell\n",
    "import ROOT\n",
    "import os\n",
    "import commands\n",
    "#InteractiveShell.ast_node_interactivity = \"all\" # Para tener el modo interactivo completo"
   ]
  },
  {
   "cell_type": "markdown",
   "metadata": {},
   "source": [
    "###Cargo las Librerías nesesarias"
   ]
  },
  {
   "cell_type": "code",
   "execution_count": 2,
   "metadata": {
    "collapsed": true
   },
   "outputs": [],
   "source": [
    "ROOT.gROOT.Reset()\n",
    "#Esta es la ruta a la librería dinámica de Delphes (debe de ser compilada con la misma versión de root del notebook)\n",
    "#ROOT.gSystem.AddDynamicPath(\"/scratch/cms/MadGraph/MG5_aMC_v2_5_2/Delphes/\")\n",
    "ROOT.gSystem.AddDynamicPath(\"/scratch/cms/Delphes/delphes/\")\n",
    "ROOT.gSystem.Load(\"libDelphes\");"
   ]
  },
  {
   "cell_type": "markdown",
   "metadata": {},
   "source": [
    "###Construcción de los TChain"
   ]
  },
  {
   "cell_type": "code",
   "execution_count": 3,
   "metadata": {
    "collapsed": true
   },
   "outputs": [],
   "source": [
    "#Lista de carpetas le analisis\n",
    "Path1= \"/scratch/cms/Datos\"\n",
    "Path2= \"/Events\"\n",
    "Path3= \"/tag_1_delphes_events.root\"\n",
    "ListOfFolders = [\"/BackGround-DY_2j-Run0\",\"/BackGround-tW-Run0\",\"/BackGround-WW-Run0\",\"/Signal_2j_mu-nu-Run0\",\"/BackGround-mumuW\"]\n"
   ]
  },
  {
   "cell_type": "code",
   "execution_count": 4,
   "metadata": {
    "collapsed": false
   },
   "outputs": [
    {
     "name": "stderr",
     "output_type": "stream",
     "text": [
      "TClass::TClass:0: RuntimeWarning: no dictionary for class CompBase is available\n"
     ]
    }
   ],
   "source": [
    "#Para guardar la info sobre los cortes\n",
    "signal={};\n",
    "for Folder in ListOfFolders:\n",
    "    comand =\"ls \" + Path1 + Folder + Path2;\n",
    "    tmp = commands.getstatusoutput( comand )\n",
    "    \n",
    "    #Parto la cadena de caracteres por '\\n', y asigno las partes a un arreglo\n",
    "    Runs = tmp[1].split(\"\\n\");\n",
    "    \n",
    "    #Creo el objeto TChain\n",
    "    MainChain=ROOT.TChain(\"Delphes\")\n",
    "    \n",
    "    #Lleno el objeto MainChain con las salidas de MadGraph-Pythia_Delphes\n",
    "    for run in range(len(Runs)):\n",
    "        imput = Path1 + Folder + Path2 + \"/\" + Runs[run] + \"/tag_1_delphes_events.root\"\n",
    "        MainChain.Add(imput)\n",
    "        \n",
    "    #Creo el objeto ExRootTreeReader\n",
    "    treeReader = ROOT.ExRootTreeReader(MainChain)\n",
    "    numberOfEntries = treeReader.GetEntries()\n",
    "    \n",
    "    #Obtengo las ramas que voy a usar\n",
    "    branchJet = treeReader.UseBranch(\"Jet\")\n",
    "    branchMuon = treeReader.UseBranch(\"Muon\")\n",
    "    branchMissingET = treeReader.UseBranch(\"MissingET\")\n",
    "\n",
    "    # Inicializo los contadores\n",
    "    cut1=0; cut2=0; cut3=0; cut4=0; cut5=0;\n",
    "    cuts={};\n",
    "    \n",
    "    # Loop sobre los eventos\n",
    "    for entry in range(0, numberOfEntries):\n",
    "        #Se carga la entrada espesífica\n",
    "        treeReader.ReadEntry(entry)\n",
    "        \n",
    "        # Primer corte, al menos 2 jet\n",
    "        if branchJet.GetEntries() > 1:\n",
    "            cut1 = cut1 +1;\n",
    "            bcount=0;\n",
    "            for i in range(0, branchJet.GetEntries() ): #Esta parte es la que produce el error (TClass::TClass:0: RuntimeWarning: no dictionary for class CompBase is available)\n",
    "                jet = branchJet.At(i)\n",
    "                #Cuento cuantos jet hay identificados como b quarks\n",
    "                if jet.BTag :\n",
    "                    bcount = bcount + 1;\n",
    "            \n",
    "            # Segundo corte, al menos 2 jet b       \n",
    "            if bcount > 1:\n",
    "                cut2 = cut2 +1;\n",
    "            \n",
    "                # If event contains at least 2 muons\n",
    "                if branchMuon.GetEntries() > 1:\n",
    "                    cut3 = cut3 +1;\n",
    "                    # Tomo los dos muones mas energéticos y comparo sus cargas eléctricas\n",
    "                    muon1 = branchMuon.At(0)\n",
    "                    muon2 = branchMuon.At(1)\n",
    "                \n",
    "                    #Corte 4: Que los muones mas energéticos tengan cargas diferentes\n",
    "                    if muon1.Charge*muon2.Charge < 0:\n",
    "                        cut4 = cut4 +1;\n",
    "\n",
    "                    \n",
    "                        #Corte 5: muones mas energéticos tengan masa invariante diferente de la del Z\n",
    "                        MassMuon= (muon1.P4()+muon2.P4()).M();\n",
    "                        if not((MassMuon>80) and (MassMuon<100)):\n",
    "                            cut5 = cut5 +1;\n",
    "    \n",
    "    \n",
    "    cuts['numberOfEntries']=numberOfEntries;\n",
    "    cuts['cut1'] = cut1;\n",
    "    cuts['cut2'] = cut2;\n",
    "    cuts['cut3'] = cut3;\n",
    "    cuts['cut4'] = cut4;\n",
    "    cuts['cut5'] = cut5; \n",
    "    signal[Folder]=cuts"
   ]
  },
  {
   "cell_type": "code",
   "execution_count": 5,
   "metadata": {
    "collapsed": false
   },
   "outputs": [
    {
     "data": {
      "text/plain": [
       "{'/BackGround-DY_2j-Run0': {'cut1': 28247,\n",
       "  'cut2': 317,\n",
       "  'cut3': 137,\n",
       "  'cut4': 137,\n",
       "  'cut5': 14,\n",
       "  'numberOfEntries': 160448L},\n",
       " '/BackGround-WW-Run0': {'cut1': 74134,\n",
       "  'cut2': 25633,\n",
       "  'cut3': 11387,\n",
       "  'cut4': 11387,\n",
       "  'cut5': 9838,\n",
       "  'numberOfEntries': 85553L},\n",
       " '/BackGround-mumuW': {'cut1': 238907,\n",
       "  'cut2': 511,\n",
       "  'cut3': 196,\n",
       "  'cut4': 196,\n",
       "  'cut5': 10,\n",
       "  'numberOfEntries': 325964L},\n",
       " '/BackGround-tW-Run0': {'cut1': 76727,\n",
       "  'cut2': 27754,\n",
       "  'cut3': 12751,\n",
       "  'cut4': 12750,\n",
       "  'cut5': 10985,\n",
       "  'numberOfEntries': 80417L},\n",
       " '/Signal_2j_mu-nu-Run0': {'cut1': 341827,\n",
       "  'cut2': 126190,\n",
       "  'cut3': 55688,\n",
       "  'cut4': 55687,\n",
       "  'cut5': 48077,\n",
       "  'numberOfEntries': 355148L}}"
      ]
     },
     "execution_count": 5,
     "metadata": {},
     "output_type": "execute_result"
    }
   ],
   "source": [
    "signal"
   ]
  },
  {
   "cell_type": "code",
   "execution_count": 10,
   "metadata": {
    "collapsed": false
   },
   "outputs": [],
   "source": [
    "EffCut={};\n",
    "Eff={};\n",
    "for entry in signal.keys():\n",
    "    for i in signal[entry].keys():\n",
    "        EffCut[i] = (0.1*signal[entry][i])/(0.1*signal[entry]['numberOfEntries']);\n",
    "    Eff[entry] = EffCut;"
   ]
  },
  {
   "cell_type": "code",
   "execution_count": 11,
   "metadata": {
    "collapsed": false
   },
   "outputs": [
    {
     "data": {
      "text/plain": [
       "{'/BackGround-DY_2j-Run0': {'cut1': 0.8665271819807604,\n",
       "  'cut2': 0.29961544305868876,\n",
       "  'cut3': 0.1330987808726754,\n",
       "  'cut4': 0.1330987808726754,\n",
       "  'cut5': 0.11499304524680606,\n",
       "  'numberOfEntries': 1.0},\n",
       " '/BackGround-WW-Run0': {'cut1': 0.8665271819807604,\n",
       "  'cut2': 0.29961544305868876,\n",
       "  'cut3': 0.1330987808726754,\n",
       "  'cut4': 0.1330987808726754,\n",
       "  'cut5': 0.11499304524680606,\n",
       "  'numberOfEntries': 1.0},\n",
       " '/BackGround-mumuW': {'cut1': 0.8665271819807604,\n",
       "  'cut2': 0.29961544305868876,\n",
       "  'cut3': 0.1330987808726754,\n",
       "  'cut4': 0.1330987808726754,\n",
       "  'cut5': 0.11499304524680606,\n",
       "  'numberOfEntries': 1.0},\n",
       " '/BackGround-tW-Run0': {'cut1': 0.8665271819807604,\n",
       "  'cut2': 0.29961544305868876,\n",
       "  'cut3': 0.1330987808726754,\n",
       "  'cut4': 0.1330987808726754,\n",
       "  'cut5': 0.11499304524680606,\n",
       "  'numberOfEntries': 1.0},\n",
       " '/Signal_2j_mu-nu-Run0': {'cut1': 0.8665271819807604,\n",
       "  'cut2': 0.29961544305868876,\n",
       "  'cut3': 0.1330987808726754,\n",
       "  'cut4': 0.1330987808726754,\n",
       "  'cut5': 0.11499304524680606,\n",
       "  'numberOfEntries': 1.0}}"
      ]
     },
     "execution_count": 11,
     "metadata": {},
     "output_type": "execute_result"
    }
   ],
   "source": [
    "Eff"
   ]
  },
  {
   "cell_type": "code",
   "execution_count": null,
   "metadata": {
    "collapsed": false
   },
   "outputs": [],
   "source": [
    "Eff."
   ]
  },
  {
   "cell_type": "code",
   "execution_count": null,
   "metadata": {
    "collapsed": false
   },
   "outputs": [],
   "source": []
  },
  {
   "cell_type": "code",
   "execution_count": null,
   "metadata": {
    "collapsed": false
   },
   "outputs": [],
   "source": []
  },
  {
   "cell_type": "code",
   "execution_count": null,
   "metadata": {
    "collapsed": true
   },
   "outputs": [],
   "source": []
  }
 ],
 "metadata": {
  "kernelspec": {
   "display_name": "Python 2",
   "language": "python",
   "name": "python2"
  },
  "language_info": {
   "codemirror_mode": {
    "name": "ipython",
    "version": 2
   },
   "file_extension": ".py",
   "mimetype": "text/x-python",
   "name": "python",
   "nbconvert_exporter": "python",
   "pygments_lexer": "ipython2",
   "version": "2.7.9"
  }
 },
 "nbformat": 4,
 "nbformat_minor": 2
}
